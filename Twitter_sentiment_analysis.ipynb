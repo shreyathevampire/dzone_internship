{
  "nbformat": 4,
  "nbformat_minor": 0,
  "metadata": {
    "colab": {
      "name": "Twitter_sentiment_analysis.ipynb",
      "version": "0.3.2",
      "provenance": [],
      "include_colab_link": true
    },
    "kernelspec": {
      "name": "python3",
      "display_name": "Python 3"
    }
  },
  "cells": [
    {
      "cell_type": "markdown",
      "metadata": {
        "id": "view-in-github",
        "colab_type": "text"
      },
      "source": [
        "<a href=\"https://colab.research.google.com/github/shreyathevampire/dzone_internship/blob/master/Twitter_sentiment_analysis.ipynb\" target=\"_parent\"><img src=\"https://colab.research.google.com/assets/colab-badge.svg\" alt=\"Open In Colab\"/></a>"
      ]
    },
    {
      "cell_type": "code",
      "metadata": {
        "id": "m3PcqRGHUP-1",
        "colab_type": "code",
        "colab": {
          "base_uri": "https://localhost:8080/",
          "height": 102
        },
        "outputId": "1fa11973-eff4-4721-a27c-b77a8986058e"
      },
      "source": [
        "pip install pandas"
      ],
      "execution_count": 1,
      "outputs": [
        {
          "output_type": "stream",
          "text": [
            "Requirement already satisfied: pandas in /usr/local/lib/python3.6/dist-packages (0.24.2)\n",
            "Requirement already satisfied: pytz>=2011k in /usr/local/lib/python3.6/dist-packages (from pandas) (2018.9)\n",
            "Requirement already satisfied: python-dateutil>=2.5.0 in /usr/local/lib/python3.6/dist-packages (from pandas) (2.5.3)\n",
            "Requirement already satisfied: numpy>=1.12.0 in /usr/local/lib/python3.6/dist-packages (from pandas) (1.16.4)\n",
            "Requirement already satisfied: six>=1.5 in /usr/local/lib/python3.6/dist-packages (from python-dateutil>=2.5.0->pandas) (1.12.0)\n"
          ],
          "name": "stdout"
        }
      ]
    },
    {
      "cell_type": "code",
      "metadata": {
        "id": "oCzGFW1ZXShC",
        "colab_type": "code",
        "colab": {
          "base_uri": "https://localhost:8080/",
          "height": 187
        },
        "outputId": "5d1ae636-1262-49eb-f585-ac23ac8d662f"
      },
      "source": [
        "pip install tweepy"
      ],
      "execution_count": 2,
      "outputs": [
        {
          "output_type": "stream",
          "text": [
            "Requirement already satisfied: tweepy in /usr/local/lib/python3.6/dist-packages (3.6.0)\n",
            "Requirement already satisfied: PySocks>=1.5.7 in /usr/local/lib/python3.6/dist-packages (from tweepy) (1.7.0)\n",
            "Requirement already satisfied: requests-oauthlib>=0.7.0 in /usr/local/lib/python3.6/dist-packages (from tweepy) (1.2.0)\n",
            "Requirement already satisfied: requests>=2.11.1 in /usr/local/lib/python3.6/dist-packages (from tweepy) (2.21.0)\n",
            "Requirement already satisfied: six>=1.10.0 in /usr/local/lib/python3.6/dist-packages (from tweepy) (1.12.0)\n",
            "Requirement already satisfied: oauthlib>=3.0.0 in /usr/local/lib/python3.6/dist-packages (from requests-oauthlib>=0.7.0->tweepy) (3.0.1)\n",
            "Requirement already satisfied: chardet<3.1.0,>=3.0.2 in /usr/local/lib/python3.6/dist-packages (from requests>=2.11.1->tweepy) (3.0.4)\n",
            "Requirement already satisfied: certifi>=2017.4.17 in /usr/local/lib/python3.6/dist-packages (from requests>=2.11.1->tweepy) (2019.6.16)\n",
            "Requirement already satisfied: urllib3<1.25,>=1.21.1 in /usr/local/lib/python3.6/dist-packages (from requests>=2.11.1->tweepy) (1.24.3)\n",
            "Requirement already satisfied: idna<2.9,>=2.5 in /usr/local/lib/python3.6/dist-packages (from requests>=2.11.1->tweepy) (2.8)\n"
          ],
          "name": "stdout"
        }
      ]
    },
    {
      "cell_type": "code",
      "metadata": {
        "id": "WUiFhZjqXWMM",
        "colab_type": "code",
        "colab": {
          "base_uri": "https://localhost:8080/",
          "height": 34
        },
        "outputId": "2ccb87c4-8237-4987-93c5-af520bae0461"
      },
      "source": [
        "!pip install vaderSentiment"
      ],
      "execution_count": 16,
      "outputs": [
        {
          "output_type": "stream",
          "text": [
            "Requirement already satisfied: vaderSentiment in /usr/local/lib/python3.6/dist-packages (3.2.1)\n"
          ],
          "name": "stdout"
        }
      ]
    },
    {
      "cell_type": "markdown",
      "metadata": {
        "id": "FTqrQa-HeEvi",
        "colab_type": "text"
      },
      "source": [
        "#import dependencies\n"
      ]
    },
    {
      "cell_type": "code",
      "metadata": {
        "id": "Hwzgb9zMXdRk",
        "colab_type": "code",
        "colab": {}
      },
      "source": [
        "import pandas as pd\n",
        "import tweepy\n",
        "from vaderSentiment.vaderSentiment import SentimentIntensityAnalyzer"
      ],
      "execution_count": 0,
      "outputs": []
    },
    {
      "cell_type": "markdown",
      "metadata": {
        "id": "JVT3OyeyhRob",
        "colab_type": "text"
      },
      "source": [
        "#make variables for twitter access \n"
      ]
    },
    {
      "cell_type": "code",
      "metadata": {
        "id": "NEaGsHRqXdka",
        "colab_type": "code",
        "colab": {}
      },
      "source": [
        "consumer_key = '1M6JYiIcuUzpSzOKq5UZ4Ln8B'\n",
        "consumer_secret_key = '8L1kYRaaUpZ3eAIQAuG5UVOCFiGcwIqLs1aFXDnBhhU7OkXMh6' \n",
        "access_token = '718123737833287680-fxbgBH2nhec5zugRHOc7KGCnSENDz4I'\n",
        "access_secret_token = 'POI4NjtDrBW3cTmhPLaAgwTPC9cZX4oEFApIW3EuQnrJO'\n"
      ],
      "execution_count": 0,
      "outputs": []
    },
    {
      "cell_type": "code",
      "metadata": {
        "id": "J7BPGkE2XdmD",
        "colab_type": "code",
        "colab": {}
      },
      "source": [
        ""
      ],
      "execution_count": 0,
      "outputs": []
    },
    {
      "cell_type": "markdown",
      "metadata": {
        "id": "sNKQN1G2iEU6",
        "colab_type": "text"
      },
      "source": [
        "#authenticate using the variables\n"
      ]
    },
    {
      "cell_type": "code",
      "metadata": {
        "id": "HYXYvWX8iJH4",
        "colab_type": "code",
        "colab": {}
      },
      "source": [
        "auth = tweepy.OAuthHandler(consumer_key,consumer_secret_key)\n",
        "auth.set_access_token(access_token,access_secret_token)\n",
        "\n",
        "api = tweepy.API(auth)"
      ],
      "execution_count": 0,
      "outputs": []
    },
    {
      "cell_type": "markdown",
      "metadata": {
        "id": "dbYZmU4wjesN",
        "colab_type": "text"
      },
      "source": [
        "#extract articles and convert into a dataframe"
      ]
    },
    {
      "cell_type": "code",
      "metadata": {
        "id": "ckhH18YzipwH",
        "colab_type": "code",
        "colab": {
          "base_uri": "https://localhost:8080/",
          "height": 1000
        },
        "outputId": "cda06671-cc81-45fc-f7a2-b805961865a3"
      },
      "source": [
        "tweet = api.search('Artificial Intelligence' , count=200)\n",
        "\n",
        "data = pd.DataFrame(data  = [tweety.text for tweety in tweet],columns = ['Tweet'])\n",
        "\n",
        "print(data.head(200))"
      ],
      "execution_count": 24,
      "outputs": [
        {
          "output_type": "stream",
          "text": [
            "                                                Tweet\n",
            "0   RT @DellEMCcloud: With the explosion of data, ...\n",
            "1   RT @WassimChourbaji: We’re developing on-devic...\n",
            "2   RT @IainLJBrown: Cherkizovo invests in artific...\n",
            "3   RT insurtechforum \"6 great novels about artifi...\n",
            "4   Artificial Intelligence gives Social Energy th...\n",
            "5   Oral-B Genius X Review: Does A Toothbrush Real...\n",
            "6   Ping An Wins Top Ranking in Global Artificial ...\n",
            "7   @NihilusShadow @WilliamWehrs @StarTrekRoom I w...\n",
            "8   RT @amodm: If Artificial Intelligence ever goe...\n",
            "9   Bakalım ne olacak. Gitti yere kadar götürmeye ...\n",
            "10  7 Technologies You Need to Know for Artificial...\n",
            "11  @coindoo featured our partnership with @cpchai...\n",
            "12  Only Humans Can Provide The Intelligence In Ar...\n",
            "13  RT @marthagabriel: A Machine May Not Take Your...\n",
            "14  RT @Nicolas2Pinto: [#Tech] \"AI ​​Factory's mis...\n",
            "15  RT @AICPA: Banking brands are buying into #Art...\n",
            "16  RT @middleeastevent: Honeywell Integrates Inte...\n",
            "17  Levée de fonds de $300 millions et évaluée à $...\n",
            "18  The Amazing Ways Hitachi Uses #Artificialntell...\n",
            "19  RT @Anthropology4P: Wow, check this out, news ...\n",
            "20  RT @hansilowang: NEW: @facebook is forming a t...\n",
            "21  RT @maxjcm: #Robotic arm packs boxes with #AI ...\n",
            "22  Slalom Atlanta’s Michelle Yi was on @NPR Atlan...\n",
            "23  The first topic of the #WeCreateEdu takeover i...\n",
            "24  Honeywell Integrates Intel® Vision Products To...\n",
            "25  Example of #Artificial_Intelligence Integrated...\n",
            "26  RT @maxjcm: HR and #AI Helping Companies Find ...\n",
            "27  RT @HealthPI: “We have to explain how our A.I....\n",
            "28  RT @maxjcm: How #AI artificial intelligence ca...\n",
            "29  RT GalaGilAmat: RT MIT: System helps machine-l...\n",
            "..                                                ...\n",
            "70  #Tesla Autopilot Tricked: Is it a new challeng...\n",
            "71  RT @InvestAustria: These are the Top10 #AI-#St...\n",
            "72  RT @SpirosMargaris: Only #Humans Can Provide \\...\n",
            "73  RT @Nicochan33: Data has a language all of its...\n",
            "74  What Is The Best Book On Artificial Intelligen...\n",
            "75  These are the Top10 #AI-#Startups in #Austria\\...\n",
            "76  RT @Houston__AI: Cherkizovo invests in artific...\n",
            "77  RT @iot_ng: New post: Think Distributed To Inn...\n",
            "78  I welcomed our new #robot overlords at #Amazon...\n",
            "79  RT @thalesnederland: Artificial intelligence i...\n",
            "80  RT @thomasmatkovic: The answer to forecasting ...\n",
            "81  RT @gravytyco: How Does Artificial Intelligenc...\n",
            "82  Artificial Intelligence (AI) as a Generator of...\n",
            "83  RT @tictoc: This safari park in South Africa u...\n",
            "84  Cherkizovo invests in artificial intelligence ...\n",
            "85  @waqyounis99 \\nAs a father what would you like...\n",
            "86  RT @webmasterdave: Catnip-laced cultured meat,...\n",
            "87  New post: Think Distributed To Innovate With A...\n",
            "88  Artificial intelligence is advancing society a...\n",
            "89  The answer to forecasting Bitcoin may lie in a...\n",
            "90  RT @Chicago__AI: Why AI Should Rightfully Mean...\n",
            "91  How Does Artificial Intelligence Work in Fundr...\n",
            "92  8 Crucial Ways to Use Artificial Intelligence ...\n",
            "93  $PRLX Parallax Health Sciences opts for third-...\n",
            "94  @Disruptionhub The Big Artificial Intelligence...\n",
            "95  RT @hcwalterelt: Oxford peeps w/interest in ne...\n",
            "96  @armyfutures @CCDC_AVM Loyal Wingman will be c...\n",
            "97  RT @Styx666Official: Sci fi fixtures, a histor...\n",
            "98  RT @TomPick: Will a Robot Take Your Marketing ...\n",
            "99  RT @Sophos: Here's how we use deep learning to...\n",
            "\n",
            "[100 rows x 1 columns]\n"
          ],
          "name": "stdout"
        }
      ]
    },
    {
      "cell_type": "markdown",
      "metadata": {
        "id": "ky109azus462",
        "colab_type": "text"
      },
      "source": [
        ""
      ]
    },
    {
      "cell_type": "code",
      "metadata": {
        "id": "dUAyDJkttlGH",
        "colab_type": "code",
        "colab": {
          "base_uri": "https://localhost:8080/",
          "height": 51
        },
        "outputId": "49f2f61a-fc0f-4d0f-ba9d-c121b2a69973"
      },
      "source": [
        "import nltk\n",
        "nltk.download('vader_lexicon')"
      ],
      "execution_count": 25,
      "outputs": [
        {
          "output_type": "stream",
          "text": [
            "[nltk_data] Downloading package vader_lexicon to /root/nltk_data...\n"
          ],
          "name": "stdout"
        },
        {
          "output_type": "execute_result",
          "data": {
            "text/plain": [
              "True"
            ]
          },
          "metadata": {
            "tags": []
          },
          "execution_count": 25
        }
      ]
    },
    {
      "cell_type": "markdown",
      "metadata": {
        "id": "_ODaQAMnuvW0",
        "colab_type": "text"
      },
      "source": [
        "#import sentiment analyzer and calculate the polarity of the tweet and add a column in the dataframe named 'polarity'"
      ]
    },
    {
      "cell_type": "code",
      "metadata": {
        "id": "pbTb9rmjtqz5",
        "colab_type": "code",
        "colab": {}
      },
      "source": [
        "sid = SentimentIntensityAnalyzer()\n",
        "\n",
        "listy = []\n",
        "\n",
        "for index,row in data.iterrows():\n",
        "  ss = sid.polarity_scores(row['Tweet'])\n",
        "  listy.append(ss)\n",
        "  \n",
        "se = pd.Series(listy)\n",
        "\n",
        "data['Polarity']  = se.values"
      ],
      "execution_count": 0,
      "outputs": []
    },
    {
      "cell_type": "code",
      "metadata": {
        "id": "B7TjbDPswA-k",
        "colab_type": "code",
        "colab": {
          "base_uri": "https://localhost:8080/",
          "height": 1000
        },
        "outputId": "123e0c45-6459-4424-c5f6-c8eeb414ffaa"
      },
      "source": [
        "data.head(200)"
      ],
      "execution_count": 30,
      "outputs": [
        {
          "output_type": "execute_result",
          "data": {
            "text/html": [
              "<div>\n",
              "<style scoped>\n",
              "    .dataframe tbody tr th:only-of-type {\n",
              "        vertical-align: middle;\n",
              "    }\n",
              "\n",
              "    .dataframe tbody tr th {\n",
              "        vertical-align: top;\n",
              "    }\n",
              "\n",
              "    .dataframe thead th {\n",
              "        text-align: right;\n",
              "    }\n",
              "</style>\n",
              "<table border=\"1\" class=\"dataframe\">\n",
              "  <thead>\n",
              "    <tr style=\"text-align: right;\">\n",
              "      <th></th>\n",
              "      <th>Tweet</th>\n",
              "      <th>Polarity</th>\n",
              "    </tr>\n",
              "  </thead>\n",
              "  <tbody>\n",
              "    <tr>\n",
              "      <th>0</th>\n",
              "      <td>RT @DellEMCcloud: With the explosion of data, ...</td>\n",
              "      <td>{'neg': 0.0, 'neu': 1.0, 'pos': 0.0, 'compound...</td>\n",
              "    </tr>\n",
              "    <tr>\n",
              "      <th>1</th>\n",
              "      <td>RT @WassimChourbaji: We’re developing on-devic...</td>\n",
              "      <td>{'neg': 0.0, 'neu': 0.61, 'pos': 0.39, 'compou...</td>\n",
              "    </tr>\n",
              "    <tr>\n",
              "      <th>2</th>\n",
              "      <td>RT @IainLJBrown: Cherkizovo invests in artific...</td>\n",
              "      <td>{'neg': 0.0, 'neu': 0.795, 'pos': 0.205, 'comp...</td>\n",
              "    </tr>\n",
              "    <tr>\n",
              "      <th>3</th>\n",
              "      <td>RT insurtechforum \"6 great novels about artifi...</td>\n",
              "      <td>{'neg': 0.0, 'neu': 0.604, 'pos': 0.396, 'comp...</td>\n",
              "    </tr>\n",
              "    <tr>\n",
              "      <th>4</th>\n",
              "      <td>Artificial Intelligence gives Social Energy th...</td>\n",
              "      <td>{'neg': 0.0, 'neu': 0.729, 'pos': 0.271, 'comp...</td>\n",
              "    </tr>\n",
              "    <tr>\n",
              "      <th>5</th>\n",
              "      <td>Oral-B Genius X Review: Does A Toothbrush Real...</td>\n",
              "      <td>{'neg': 0.0, 'neu': 0.766, 'pos': 0.234, 'comp...</td>\n",
              "    </tr>\n",
              "    <tr>\n",
              "      <th>6</th>\n",
              "      <td>Ping An Wins Top Ranking in Global Artificial ...</td>\n",
              "      <td>{'neg': 0.0, 'neu': 0.447, 'pos': 0.553, 'comp...</td>\n",
              "    </tr>\n",
              "    <tr>\n",
              "      <th>7</th>\n",
              "      <td>@NihilusShadow @WilliamWehrs @StarTrekRoom I w...</td>\n",
              "      <td>{'neg': 0.0, 'neu': 1.0, 'pos': 0.0, 'compound...</td>\n",
              "    </tr>\n",
              "    <tr>\n",
              "      <th>8</th>\n",
              "      <td>RT @amodm: If Artificial Intelligence ever goe...</td>\n",
              "      <td>{'neg': 0.13, 'neu': 0.736, 'pos': 0.134, 'com...</td>\n",
              "    </tr>\n",
              "    <tr>\n",
              "      <th>9</th>\n",
              "      <td>Bakalım ne olacak. Gitti yere kadar götürmeye ...</td>\n",
              "      <td>{'neg': 0.0, 'neu': 0.718, 'pos': 0.282, 'comp...</td>\n",
              "    </tr>\n",
              "    <tr>\n",
              "      <th>10</th>\n",
              "      <td>7 Technologies You Need to Know for Artificial...</td>\n",
              "      <td>{'neg': 0.0, 'neu': 0.795, 'pos': 0.205, 'comp...</td>\n",
              "    </tr>\n",
              "    <tr>\n",
              "      <th>11</th>\n",
              "      <td>@coindoo featured our partnership with @cpchai...</td>\n",
              "      <td>{'neg': 0.0, 'neu': 1.0, 'pos': 0.0, 'compound...</td>\n",
              "    </tr>\n",
              "    <tr>\n",
              "      <th>12</th>\n",
              "      <td>Only Humans Can Provide The Intelligence In Ar...</td>\n",
              "      <td>{'neg': 0.0, 'neu': 0.617, 'pos': 0.383, 'comp...</td>\n",
              "    </tr>\n",
              "    <tr>\n",
              "      <th>13</th>\n",
              "      <td>RT @marthagabriel: A Machine May Not Take Your...</td>\n",
              "      <td>{'neg': 0.0, 'neu': 1.0, 'pos': 0.0, 'compound...</td>\n",
              "    </tr>\n",
              "    <tr>\n",
              "      <th>14</th>\n",
              "      <td>RT @Nicolas2Pinto: [#Tech] \"AI ​​Factory's mis...</td>\n",
              "      <td>{'neg': 0.0, 'neu': 0.778, 'pos': 0.222, 'comp...</td>\n",
              "    </tr>\n",
              "    <tr>\n",
              "      <th>15</th>\n",
              "      <td>RT @AICPA: Banking brands are buying into #Art...</td>\n",
              "      <td>{'neg': 0.0, 'neu': 0.778, 'pos': 0.222, 'comp...</td>\n",
              "    </tr>\n",
              "    <tr>\n",
              "      <th>16</th>\n",
              "      <td>RT @middleeastevent: Honeywell Integrates Inte...</td>\n",
              "      <td>{'neg': 0.0, 'neu': 0.651, 'pos': 0.349, 'comp...</td>\n",
              "    </tr>\n",
              "    <tr>\n",
              "      <th>17</th>\n",
              "      <td>Levée de fonds de $300 millions et évaluée à $...</td>\n",
              "      <td>{'neg': 0.0, 'neu': 1.0, 'pos': 0.0, 'compound...</td>\n",
              "    </tr>\n",
              "    <tr>\n",
              "      <th>18</th>\n",
              "      <td>The Amazing Ways Hitachi Uses #Artificialntell...</td>\n",
              "      <td>{'neg': 0.0, 'neu': 0.759, 'pos': 0.241, 'comp...</td>\n",
              "    </tr>\n",
              "    <tr>\n",
              "      <th>19</th>\n",
              "      <td>RT @Anthropology4P: Wow, check this out, news ...</td>\n",
              "      <td>{'neg': 0.0, 'neu': 0.69, 'pos': 0.31, 'compou...</td>\n",
              "    </tr>\n",
              "    <tr>\n",
              "      <th>20</th>\n",
              "      <td>RT @hansilowang: NEW: @facebook is forming a t...</td>\n",
              "      <td>{'neg': 0.197, 'neu': 0.672, 'pos': 0.13, 'com...</td>\n",
              "    </tr>\n",
              "    <tr>\n",
              "      <th>21</th>\n",
              "      <td>RT @maxjcm: #Robotic arm packs boxes with #AI ...</td>\n",
              "      <td>{'neg': 0.0, 'neu': 1.0, 'pos': 0.0, 'compound...</td>\n",
              "    </tr>\n",
              "    <tr>\n",
              "      <th>22</th>\n",
              "      <td>Slalom Atlanta’s Michelle Yi was on @NPR Atlan...</td>\n",
              "      <td>{'neg': 0.0, 'neu': 1.0, 'pos': 0.0, 'compound...</td>\n",
              "    </tr>\n",
              "    <tr>\n",
              "      <th>23</th>\n",
              "      <td>The first topic of the #WeCreateEdu takeover i...</td>\n",
              "      <td>{'neg': 0.0, 'neu': 1.0, 'pos': 0.0, 'compound...</td>\n",
              "    </tr>\n",
              "    <tr>\n",
              "      <th>24</th>\n",
              "      <td>Honeywell Integrates Intel® Vision Products To...</td>\n",
              "      <td>{'neg': 0.0, 'neu': 0.634, 'pos': 0.366, 'comp...</td>\n",
              "    </tr>\n",
              "    <tr>\n",
              "      <th>25</th>\n",
              "      <td>Example of #Artificial_Intelligence Integrated...</td>\n",
              "      <td>{'neg': 0.0, 'neu': 1.0, 'pos': 0.0, 'compound...</td>\n",
              "    </tr>\n",
              "    <tr>\n",
              "      <th>26</th>\n",
              "      <td>RT @maxjcm: HR and #AI Helping Companies Find ...</td>\n",
              "      <td>{'neg': 0.0, 'neu': 0.891, 'pos': 0.109, 'comp...</td>\n",
              "    </tr>\n",
              "    <tr>\n",
              "      <th>27</th>\n",
              "      <td>RT @HealthPI: “We have to explain how our A.I....</td>\n",
              "      <td>{'neg': 0.0, 'neu': 0.842, 'pos': 0.158, 'comp...</td>\n",
              "    </tr>\n",
              "    <tr>\n",
              "      <th>28</th>\n",
              "      <td>RT @maxjcm: How #AI artificial intelligence ca...</td>\n",
              "      <td>{'neg': 0.0, 'neu': 0.727, 'pos': 0.273, 'comp...</td>\n",
              "    </tr>\n",
              "    <tr>\n",
              "      <th>29</th>\n",
              "      <td>RT GalaGilAmat: RT MIT: System helps machine-l...</td>\n",
              "      <td>{'neg': 0.0, 'neu': 0.852, 'pos': 0.148, 'comp...</td>\n",
              "    </tr>\n",
              "    <tr>\n",
              "      <th>...</th>\n",
              "      <td>...</td>\n",
              "      <td>...</td>\n",
              "    </tr>\n",
              "    <tr>\n",
              "      <th>70</th>\n",
              "      <td>#Tesla Autopilot Tricked: Is it a new challeng...</td>\n",
              "      <td>{'neg': 0.107, 'neu': 0.6, 'pos': 0.293, 'comp...</td>\n",
              "    </tr>\n",
              "    <tr>\n",
              "      <th>71</th>\n",
              "      <td>RT @InvestAustria: These are the Top10 #AI-#St...</td>\n",
              "      <td>{'neg': 0.0, 'neu': 0.711, 'pos': 0.289, 'comp...</td>\n",
              "    </tr>\n",
              "    <tr>\n",
              "      <th>72</th>\n",
              "      <td>RT @SpirosMargaris: Only #Humans Can Provide \\...</td>\n",
              "      <td>{'neg': 0.0, 'neu': 0.807, 'pos': 0.193, 'comp...</td>\n",
              "    </tr>\n",
              "    <tr>\n",
              "      <th>73</th>\n",
              "      <td>RT @Nicochan33: Data has a language all of its...</td>\n",
              "      <td>{'neg': 0.0, 'neu': 1.0, 'pos': 0.0, 'compound...</td>\n",
              "    </tr>\n",
              "    <tr>\n",
              "      <th>74</th>\n",
              "      <td>What Is The Best Book On Artificial Intelligen...</td>\n",
              "      <td>{'neg': 0.0, 'neu': 0.552, 'pos': 0.448, 'comp...</td>\n",
              "    </tr>\n",
              "    <tr>\n",
              "      <th>75</th>\n",
              "      <td>These are the Top10 #AI-#Startups in #Austria\\...</td>\n",
              "      <td>{'neg': 0.0, 'neu': 0.697, 'pos': 0.303, 'comp...</td>\n",
              "    </tr>\n",
              "    <tr>\n",
              "      <th>76</th>\n",
              "      <td>RT @Houston__AI: Cherkizovo invests in artific...</td>\n",
              "      <td>{'neg': 0.0, 'neu': 0.763, 'pos': 0.237, 'comp...</td>\n",
              "    </tr>\n",
              "    <tr>\n",
              "      <th>77</th>\n",
              "      <td>RT @iot_ng: New post: Think Distributed To Inn...</td>\n",
              "      <td>{'neg': 0.0, 'neu': 0.674, 'pos': 0.326, 'comp...</td>\n",
              "    </tr>\n",
              "    <tr>\n",
              "      <th>78</th>\n",
              "      <td>I welcomed our new #robot overlords at #Amazon...</td>\n",
              "      <td>{'neg': 0.0, 'neu': 0.821, 'pos': 0.179, 'comp...</td>\n",
              "    </tr>\n",
              "    <tr>\n",
              "      <th>79</th>\n",
              "      <td>RT @thalesnederland: Artificial intelligence i...</td>\n",
              "      <td>{'neg': 0.0, 'neu': 0.751, 'pos': 0.249, 'comp...</td>\n",
              "    </tr>\n",
              "    <tr>\n",
              "      <th>80</th>\n",
              "      <td>RT @thomasmatkovic: The answer to forecasting ...</td>\n",
              "      <td>{'neg': 0.0, 'neu': 0.795, 'pos': 0.205, 'comp...</td>\n",
              "    </tr>\n",
              "    <tr>\n",
              "      <th>81</th>\n",
              "      <td>RT @gravytyco: How Does Artificial Intelligenc...</td>\n",
              "      <td>{'neg': 0.0, 'neu': 0.735, 'pos': 0.265, 'comp...</td>\n",
              "    </tr>\n",
              "    <tr>\n",
              "      <th>82</th>\n",
              "      <td>Artificial Intelligence (AI) as a Generator of...</td>\n",
              "      <td>{'neg': 0.0, 'neu': 0.721, 'pos': 0.279, 'comp...</td>\n",
              "    </tr>\n",
              "    <tr>\n",
              "      <th>83</th>\n",
              "      <td>RT @tictoc: This safari park in South Africa u...</td>\n",
              "      <td>{'neg': 0.104, 'neu': 0.743, 'pos': 0.153, 'co...</td>\n",
              "    </tr>\n",
              "    <tr>\n",
              "      <th>84</th>\n",
              "      <td>Cherkizovo invests in artificial intelligence ...</td>\n",
              "      <td>{'neg': 0.0, 'neu': 0.744, 'pos': 0.256, 'comp...</td>\n",
              "    </tr>\n",
              "    <tr>\n",
              "      <th>85</th>\n",
              "      <td>@waqyounis99 \\nAs a father what would you like...</td>\n",
              "      <td>{'neg': 0.0, 'neu': 0.884, 'pos': 0.116, 'comp...</td>\n",
              "    </tr>\n",
              "    <tr>\n",
              "      <th>86</th>\n",
              "      <td>RT @webmasterdave: Catnip-laced cultured meat,...</td>\n",
              "      <td>{'neg': 0.0, 'neu': 0.7, 'pos': 0.3, 'compound...</td>\n",
              "    </tr>\n",
              "    <tr>\n",
              "      <th>87</th>\n",
              "      <td>New post: Think Distributed To Innovate With A...</td>\n",
              "      <td>{'neg': 0.0, 'neu': 0.636, 'pos': 0.364, 'comp...</td>\n",
              "    </tr>\n",
              "    <tr>\n",
              "      <th>88</th>\n",
              "      <td>Artificial intelligence is advancing society a...</td>\n",
              "      <td>{'neg': 0.0, 'neu': 0.739, 'pos': 0.261, 'comp...</td>\n",
              "    </tr>\n",
              "    <tr>\n",
              "      <th>89</th>\n",
              "      <td>The answer to forecasting Bitcoin may lie in a...</td>\n",
              "      <td>{'neg': 0.0, 'neu': 0.763, 'pos': 0.237, 'comp...</td>\n",
              "    </tr>\n",
              "    <tr>\n",
              "      <th>90</th>\n",
              "      <td>RT @Chicago__AI: Why AI Should Rightfully Mean...</td>\n",
              "      <td>{'neg': 0.0, 'neu': 0.677, 'pos': 0.323, 'comp...</td>\n",
              "    </tr>\n",
              "    <tr>\n",
              "      <th>91</th>\n",
              "      <td>How Does Artificial Intelligence Work in Fundr...</td>\n",
              "      <td>{'neg': 0.0, 'neu': 0.714, 'pos': 0.286, 'comp...</td>\n",
              "    </tr>\n",
              "    <tr>\n",
              "      <th>92</th>\n",
              "      <td>8 Crucial Ways to Use Artificial Intelligence ...</td>\n",
              "      <td>{'neg': 0.0, 'neu': 0.795, 'pos': 0.205, 'comp...</td>\n",
              "    </tr>\n",
              "    <tr>\n",
              "      <th>93</th>\n",
              "      <td>$PRLX Parallax Health Sciences opts for third-...</td>\n",
              "      <td>{'neg': 0.0, 'neu': 0.819, 'pos': 0.181, 'comp...</td>\n",
              "    </tr>\n",
              "    <tr>\n",
              "      <th>94</th>\n",
              "      <td>@Disruptionhub The Big Artificial Intelligence...</td>\n",
              "      <td>{'neg': 0.142, 'neu': 0.682, 'pos': 0.176, 'co...</td>\n",
              "    </tr>\n",
              "    <tr>\n",
              "      <th>95</th>\n",
              "      <td>RT @hcwalterelt: Oxford peeps w/interest in ne...</td>\n",
              "      <td>{'neg': 0.0, 'neu': 1.0, 'pos': 0.0, 'compound...</td>\n",
              "    </tr>\n",
              "    <tr>\n",
              "      <th>96</th>\n",
              "      <td>@armyfutures @CCDC_AVM Loyal Wingman will be c...</td>\n",
              "      <td>{'neg': 0.0, 'neu': 0.749, 'pos': 0.251, 'comp...</td>\n",
              "    </tr>\n",
              "    <tr>\n",
              "      <th>97</th>\n",
              "      <td>RT @Styx666Official: Sci fi fixtures, a histor...</td>\n",
              "      <td>{'neg': 0.0, 'neu': 1.0, 'pos': 0.0, 'compound...</td>\n",
              "    </tr>\n",
              "    <tr>\n",
              "      <th>98</th>\n",
              "      <td>RT @TomPick: Will a Robot Take Your Marketing ...</td>\n",
              "      <td>{'neg': 0.169, 'neu': 0.698, 'pos': 0.133, 'co...</td>\n",
              "    </tr>\n",
              "    <tr>\n",
              "      <th>99</th>\n",
              "      <td>RT @Sophos: Here's how we use deep learning to...</td>\n",
              "      <td>{'neg': 0.0, 'neu': 1.0, 'pos': 0.0, 'compound...</td>\n",
              "    </tr>\n",
              "  </tbody>\n",
              "</table>\n",
              "<p>100 rows × 2 columns</p>\n",
              "</div>"
            ],
            "text/plain": [
              "                                                Tweet                                           Polarity\n",
              "0   RT @DellEMCcloud: With the explosion of data, ...  {'neg': 0.0, 'neu': 1.0, 'pos': 0.0, 'compound...\n",
              "1   RT @WassimChourbaji: We’re developing on-devic...  {'neg': 0.0, 'neu': 0.61, 'pos': 0.39, 'compou...\n",
              "2   RT @IainLJBrown: Cherkizovo invests in artific...  {'neg': 0.0, 'neu': 0.795, 'pos': 0.205, 'comp...\n",
              "3   RT insurtechforum \"6 great novels about artifi...  {'neg': 0.0, 'neu': 0.604, 'pos': 0.396, 'comp...\n",
              "4   Artificial Intelligence gives Social Energy th...  {'neg': 0.0, 'neu': 0.729, 'pos': 0.271, 'comp...\n",
              "5   Oral-B Genius X Review: Does A Toothbrush Real...  {'neg': 0.0, 'neu': 0.766, 'pos': 0.234, 'comp...\n",
              "6   Ping An Wins Top Ranking in Global Artificial ...  {'neg': 0.0, 'neu': 0.447, 'pos': 0.553, 'comp...\n",
              "7   @NihilusShadow @WilliamWehrs @StarTrekRoom I w...  {'neg': 0.0, 'neu': 1.0, 'pos': 0.0, 'compound...\n",
              "8   RT @amodm: If Artificial Intelligence ever goe...  {'neg': 0.13, 'neu': 0.736, 'pos': 0.134, 'com...\n",
              "9   Bakalım ne olacak. Gitti yere kadar götürmeye ...  {'neg': 0.0, 'neu': 0.718, 'pos': 0.282, 'comp...\n",
              "10  7 Technologies You Need to Know for Artificial...  {'neg': 0.0, 'neu': 0.795, 'pos': 0.205, 'comp...\n",
              "11  @coindoo featured our partnership with @cpchai...  {'neg': 0.0, 'neu': 1.0, 'pos': 0.0, 'compound...\n",
              "12  Only Humans Can Provide The Intelligence In Ar...  {'neg': 0.0, 'neu': 0.617, 'pos': 0.383, 'comp...\n",
              "13  RT @marthagabriel: A Machine May Not Take Your...  {'neg': 0.0, 'neu': 1.0, 'pos': 0.0, 'compound...\n",
              "14  RT @Nicolas2Pinto: [#Tech] \"AI ​​Factory's mis...  {'neg': 0.0, 'neu': 0.778, 'pos': 0.222, 'comp...\n",
              "15  RT @AICPA: Banking brands are buying into #Art...  {'neg': 0.0, 'neu': 0.778, 'pos': 0.222, 'comp...\n",
              "16  RT @middleeastevent: Honeywell Integrates Inte...  {'neg': 0.0, 'neu': 0.651, 'pos': 0.349, 'comp...\n",
              "17  Levée de fonds de $300 millions et évaluée à $...  {'neg': 0.0, 'neu': 1.0, 'pos': 0.0, 'compound...\n",
              "18  The Amazing Ways Hitachi Uses #Artificialntell...  {'neg': 0.0, 'neu': 0.759, 'pos': 0.241, 'comp...\n",
              "19  RT @Anthropology4P: Wow, check this out, news ...  {'neg': 0.0, 'neu': 0.69, 'pos': 0.31, 'compou...\n",
              "20  RT @hansilowang: NEW: @facebook is forming a t...  {'neg': 0.197, 'neu': 0.672, 'pos': 0.13, 'com...\n",
              "21  RT @maxjcm: #Robotic arm packs boxes with #AI ...  {'neg': 0.0, 'neu': 1.0, 'pos': 0.0, 'compound...\n",
              "22  Slalom Atlanta’s Michelle Yi was on @NPR Atlan...  {'neg': 0.0, 'neu': 1.0, 'pos': 0.0, 'compound...\n",
              "23  The first topic of the #WeCreateEdu takeover i...  {'neg': 0.0, 'neu': 1.0, 'pos': 0.0, 'compound...\n",
              "24  Honeywell Integrates Intel® Vision Products To...  {'neg': 0.0, 'neu': 0.634, 'pos': 0.366, 'comp...\n",
              "25  Example of #Artificial_Intelligence Integrated...  {'neg': 0.0, 'neu': 1.0, 'pos': 0.0, 'compound...\n",
              "26  RT @maxjcm: HR and #AI Helping Companies Find ...  {'neg': 0.0, 'neu': 0.891, 'pos': 0.109, 'comp...\n",
              "27  RT @HealthPI: “We have to explain how our A.I....  {'neg': 0.0, 'neu': 0.842, 'pos': 0.158, 'comp...\n",
              "28  RT @maxjcm: How #AI artificial intelligence ca...  {'neg': 0.0, 'neu': 0.727, 'pos': 0.273, 'comp...\n",
              "29  RT GalaGilAmat: RT MIT: System helps machine-l...  {'neg': 0.0, 'neu': 0.852, 'pos': 0.148, 'comp...\n",
              "..                                                ...                                                ...\n",
              "70  #Tesla Autopilot Tricked: Is it a new challeng...  {'neg': 0.107, 'neu': 0.6, 'pos': 0.293, 'comp...\n",
              "71  RT @InvestAustria: These are the Top10 #AI-#St...  {'neg': 0.0, 'neu': 0.711, 'pos': 0.289, 'comp...\n",
              "72  RT @SpirosMargaris: Only #Humans Can Provide \\...  {'neg': 0.0, 'neu': 0.807, 'pos': 0.193, 'comp...\n",
              "73  RT @Nicochan33: Data has a language all of its...  {'neg': 0.0, 'neu': 1.0, 'pos': 0.0, 'compound...\n",
              "74  What Is The Best Book On Artificial Intelligen...  {'neg': 0.0, 'neu': 0.552, 'pos': 0.448, 'comp...\n",
              "75  These are the Top10 #AI-#Startups in #Austria\\...  {'neg': 0.0, 'neu': 0.697, 'pos': 0.303, 'comp...\n",
              "76  RT @Houston__AI: Cherkizovo invests in artific...  {'neg': 0.0, 'neu': 0.763, 'pos': 0.237, 'comp...\n",
              "77  RT @iot_ng: New post: Think Distributed To Inn...  {'neg': 0.0, 'neu': 0.674, 'pos': 0.326, 'comp...\n",
              "78  I welcomed our new #robot overlords at #Amazon...  {'neg': 0.0, 'neu': 0.821, 'pos': 0.179, 'comp...\n",
              "79  RT @thalesnederland: Artificial intelligence i...  {'neg': 0.0, 'neu': 0.751, 'pos': 0.249, 'comp...\n",
              "80  RT @thomasmatkovic: The answer to forecasting ...  {'neg': 0.0, 'neu': 0.795, 'pos': 0.205, 'comp...\n",
              "81  RT @gravytyco: How Does Artificial Intelligenc...  {'neg': 0.0, 'neu': 0.735, 'pos': 0.265, 'comp...\n",
              "82  Artificial Intelligence (AI) as a Generator of...  {'neg': 0.0, 'neu': 0.721, 'pos': 0.279, 'comp...\n",
              "83  RT @tictoc: This safari park in South Africa u...  {'neg': 0.104, 'neu': 0.743, 'pos': 0.153, 'co...\n",
              "84  Cherkizovo invests in artificial intelligence ...  {'neg': 0.0, 'neu': 0.744, 'pos': 0.256, 'comp...\n",
              "85  @waqyounis99 \\nAs a father what would you like...  {'neg': 0.0, 'neu': 0.884, 'pos': 0.116, 'comp...\n",
              "86  RT @webmasterdave: Catnip-laced cultured meat,...  {'neg': 0.0, 'neu': 0.7, 'pos': 0.3, 'compound...\n",
              "87  New post: Think Distributed To Innovate With A...  {'neg': 0.0, 'neu': 0.636, 'pos': 0.364, 'comp...\n",
              "88  Artificial intelligence is advancing society a...  {'neg': 0.0, 'neu': 0.739, 'pos': 0.261, 'comp...\n",
              "89  The answer to forecasting Bitcoin may lie in a...  {'neg': 0.0, 'neu': 0.763, 'pos': 0.237, 'comp...\n",
              "90  RT @Chicago__AI: Why AI Should Rightfully Mean...  {'neg': 0.0, 'neu': 0.677, 'pos': 0.323, 'comp...\n",
              "91  How Does Artificial Intelligence Work in Fundr...  {'neg': 0.0, 'neu': 0.714, 'pos': 0.286, 'comp...\n",
              "92  8 Crucial Ways to Use Artificial Intelligence ...  {'neg': 0.0, 'neu': 0.795, 'pos': 0.205, 'comp...\n",
              "93  $PRLX Parallax Health Sciences opts for third-...  {'neg': 0.0, 'neu': 0.819, 'pos': 0.181, 'comp...\n",
              "94  @Disruptionhub The Big Artificial Intelligence...  {'neg': 0.142, 'neu': 0.682, 'pos': 0.176, 'co...\n",
              "95  RT @hcwalterelt: Oxford peeps w/interest in ne...  {'neg': 0.0, 'neu': 1.0, 'pos': 0.0, 'compound...\n",
              "96  @armyfutures @CCDC_AVM Loyal Wingman will be c...  {'neg': 0.0, 'neu': 0.749, 'pos': 0.251, 'comp...\n",
              "97  RT @Styx666Official: Sci fi fixtures, a histor...  {'neg': 0.0, 'neu': 1.0, 'pos': 0.0, 'compound...\n",
              "98  RT @TomPick: Will a Robot Take Your Marketing ...  {'neg': 0.169, 'neu': 0.698, 'pos': 0.133, 'co...\n",
              "99  RT @Sophos: Here's how we use deep learning to...  {'neg': 0.0, 'neu': 1.0, 'pos': 0.0, 'compound...\n",
              "\n",
              "[100 rows x 2 columns]"
            ]
          },
          "metadata": {
            "tags": []
          },
          "execution_count": 30
        }
      ]
    }
  ]
}